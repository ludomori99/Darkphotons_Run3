{
 "cells": [
  {
   "cell_type": "code",
   "execution_count": 10,
   "metadata": {},
   "outputs": [],
   "source": [
    "import numpy as np\n",
    "import mplhep as hep\n",
    "import xgboost as xgb\n",
    "import matplotlib.pyplot as plt\n",
    "from sklearn import datasets\n",
    "from sklearn.model_selection import train_test_split\n",
    "from sklearn.metrics import precision_score, accuracy_score\n",
    "import uproot as up\n",
    "import pandas as pd \n",
    "import awkward as ak\n",
    "import os\n",
    "\n",
    "os.environ[\"HOMELUDO\"] = '/home/submit/mori25/'\n",
    "os.environ[\"DPLUDO\"] = '/work/submit/mori25/Darkphotons_ludo/'\n",
    "\n",
    "from training_offline import Trainer, plot_ROC"
   ]
  },
  {
   "cell_type": "code",
   "execution_count": 11,
   "metadata": {},
   "outputs": [
    {
     "name": "stdout",
     "output_type": "stream",
     "text": [
      "Successfully imported data file to memory\n"
     ]
    },
    {
     "name": "stderr",
     "output_type": "stream",
     "text": [
      "/work/submit/mori25/Darkphotons_ludo/BDT/training_offline.py:76: SettingWithCopyWarning: \n",
      "A value is trying to be set on a copy of a slice from a DataFrame.\n",
      "Try using .loc[row_indexer,col_indexer] = value instead\n",
      "\n",
      "See the caveats in the documentation: https://pandas.pydata.org/pandas-docs/stable/user_guide/indexing.html#returning-a-view-versus-a-copy\n",
      "  sig['Score'] = 1\n",
      "/work/submit/mori25/Darkphotons_ludo/BDT/training_offline.py:77: SettingWithCopyWarning: \n",
      "A value is trying to be set on a copy of a slice from a DataFrame.\n",
      "Try using .loc[row_indexer,col_indexer] = value instead\n",
      "\n",
      "See the caveats in the documentation: https://pandas.pydata.org/pandas-docs/stable/user_guide/indexing.html#returning-a-view-versus-a-copy\n",
      "  bkg['Score'] = 0\n"
     ]
    },
    {
     "name": "stdout",
     "output_type": "stream",
     "text": [
      "Defined training and evaluation datasets\n",
      "[18:56:16] /home/conda/feedstock_root/build_artifacts/xgboost-split_1691196879049/work/src/common/io.cc:102: Opening /work/submit/mori25/Darkphotons_ludo/BDT/trained_models_Y/forest_standard.json failed: No such file or directory\n",
      "Stack trace:\n",
      "  [bt] (0) /work/submit/mori25/anaconda3/envs/rhino/lib/libxgboost.so(+0x20b7df) [0x7efc6d0597df]\n",
      "  [bt] (1) /work/submit/mori25/anaconda3/envs/rhino/lib/libxgboost.so(xgboost::common::LoadSequentialFile(std::__cxx11::basic_string<char, std::char_traits<char>, std::allocator<char> >, bool)+0x8f4) [0x7efc6d0aed24]\n",
      "  [bt] (2) /work/submit/mori25/anaconda3/envs/rhino/lib/libxgboost.so(+0x22d441) [0x7efc6d07b441]\n",
      "  [bt] (3) /work/submit/mori25/anaconda3/envs/rhino/lib/libxgboost.so(XGBoosterLoadModel+0x121) [0x7efc6d07b811]\n",
      "  [bt] (4) /work/submit/mori25/anaconda3/envs/rhino/lib/python3.11/lib-dynload/../../libffi.so.8(+0x6a4a) [0x7efd35906a4a]\n",
      "  [bt] (5) /work/submit/mori25/anaconda3/envs/rhino/lib/python3.11/lib-dynload/../../libffi.so.8(+0x5fea) [0x7efd35905fea]\n",
      "  [bt] (6) /work/submit/mori25/anaconda3/envs/rhino/lib/python3.11/lib-dynload/_ctypes.cpython-311-x86_64-linux-gnu.so(+0x12529) [0x7efd2e283529]\n",
      "  [bt] (7) /work/submit/mori25/anaconda3/envs/rhino/lib/python3.11/lib-dynload/_ctypes.cpython-311-x86_64-linux-gnu.so(+0x8862) [0x7efd2e279862]\n",
      "  [bt] (8) /work/submit/mori25/anaconda3/envs/rhino/bin/python(_PyObject_MakeTpCall+0x263) [0x55b748a64e13]\n",
      "\n",
      "\n"
     ]
    },
    {
     "ename": "XGBoostError",
     "evalue": "[18:56:16] /home/conda/feedstock_root/build_artifacts/xgboost-split_1691196879049/work/src/learner.cc:792: Check failed: mparam_.num_feature != 0 (0 vs. 0) : 0 feature is supplied.  Are you using raw Booster interface?\nStack trace:\n  [bt] (0) /work/submit/mori25/anaconda3/envs/rhino/lib/libxgboost.so(+0x20b7df) [0x7efc6d0597df]\n  [bt] (1) /work/submit/mori25/anaconda3/envs/rhino/lib/libxgboost.so(+0x3e04ee) [0x7efc6d22e4ee]\n  [bt] (2) /work/submit/mori25/anaconda3/envs/rhino/lib/libxgboost.so(+0x3e7453) [0x7efc6d235453]\n  [bt] (3) /work/submit/mori25/anaconda3/envs/rhino/lib/libxgboost.so(+0x3e0b1a) [0x7efc6d22eb1a]\n  [bt] (4) /work/submit/mori25/anaconda3/envs/rhino/lib/libxgboost.so(XGBoosterPredictFromDMatrix+0x2f9) [0x7efc6d079639]\n  [bt] (5) /work/submit/mori25/anaconda3/envs/rhino/lib/python3.11/lib-dynload/../../libffi.so.8(+0x6a4a) [0x7efd35906a4a]\n  [bt] (6) /work/submit/mori25/anaconda3/envs/rhino/lib/python3.11/lib-dynload/../../libffi.so.8(+0x5fea) [0x7efd35905fea]\n  [bt] (7) /work/submit/mori25/anaconda3/envs/rhino/lib/python3.11/lib-dynload/_ctypes.cpython-311-x86_64-linux-gnu.so(+0x12529) [0x7efd2e283529]\n  [bt] (8) /work/submit/mori25/anaconda3/envs/rhino/lib/python3.11/lib-dynload/_ctypes.cpython-311-x86_64-linux-gnu.so(+0x8862) [0x7efd2e279862]\n\n",
     "output_type": "error",
     "traceback": [
      "\u001b[0;31m---------------------------------------------------------------------------\u001b[0m",
      "\u001b[0;31mXGBoostError\u001b[0m                              Traceback (most recent call last)",
      "Cell \u001b[0;32mIn[11], line 3\u001b[0m\n\u001b[1;32m      1\u001b[0m Y_forest \u001b[39m=\u001b[39m Trainer(\u001b[39m\"\u001b[39m\u001b[39mY\u001b[39m\u001b[39m\"\u001b[39m, \u001b[39m'\u001b[39m\u001b[39mforest_standard\u001b[39m\u001b[39m'\u001b[39m)\n\u001b[1;32m      2\u001b[0m Y_forest\u001b[39m.\u001b[39mcomplete_load()\n\u001b[0;32m----> 3\u001b[0m Y_forest\u001b[39m.\u001b[39;49mplot_model()\n",
      "File \u001b[0;32m/work/submit/mori25/Darkphotons_ludo/BDT/training_offline.py:133\u001b[0m, in \u001b[0;36mTrainer.plot_model\u001b[0;34m(self, **kwargs)\u001b[0m\n\u001b[1;32m    132\u001b[0m \u001b[39mdef\u001b[39;00m \u001b[39mplot_model\u001b[39m(\u001b[39mself\u001b[39m,\u001b[39m*\u001b[39m\u001b[39m*\u001b[39mkwargs):\n\u001b[0;32m--> 133\u001b[0m     \u001b[39mself\u001b[39m\u001b[39m.\u001b[39mval_bkg\u001b[39m=\u001b[39m\u001b[39mself\u001b[39;49m\u001b[39m.\u001b[39;49mbst\u001b[39m.\u001b[39;49mpredict(xgb\u001b[39m.\u001b[39;49mDMatrix(\u001b[39mself\u001b[39;49m\u001b[39m.\u001b[39;49mX_val[\u001b[39mself\u001b[39;49m\u001b[39m.\u001b[39;49my_val\u001b[39m==\u001b[39;49m\u001b[39m0\u001b[39;49m]))\n\u001b[1;32m    134\u001b[0m     \u001b[39mself\u001b[39m\u001b[39m.\u001b[39mval_sig\u001b[39m=\u001b[39m\u001b[39mself\u001b[39m\u001b[39m.\u001b[39mbst\u001b[39m.\u001b[39mpredict(xgb\u001b[39m.\u001b[39mDMatrix(\u001b[39mself\u001b[39m\u001b[39m.\u001b[39mX_val[\u001b[39mself\u001b[39m\u001b[39m.\u001b[39my_val\u001b[39m==\u001b[39m\u001b[39m1\u001b[39m]))\n\u001b[1;32m    135\u001b[0m     \u001b[39mself\u001b[39m\u001b[39m.\u001b[39mtrain_bkg\u001b[39m=\u001b[39m\u001b[39mself\u001b[39m\u001b[39m.\u001b[39mbst\u001b[39m.\u001b[39mpredict(xgb\u001b[39m.\u001b[39mDMatrix(\u001b[39mself\u001b[39m\u001b[39m.\u001b[39mX_train[\u001b[39mself\u001b[39m\u001b[39m.\u001b[39my_train\u001b[39m==\u001b[39m\u001b[39m0\u001b[39m]))\n",
      "File \u001b[0;32m/work/submit/mori25/anaconda3/envs/rhino/lib/python3.11/site-packages/xgboost/core.py:2163\u001b[0m, in \u001b[0;36mBooster.predict\u001b[0;34m(self, data, output_margin, ntree_limit, pred_leaf, pred_contribs, approx_contribs, pred_interactions, validate_features, training, iteration_range, strict_shape)\u001b[0m\n\u001b[1;32m   2161\u001b[0m shape \u001b[39m=\u001b[39m ctypes\u001b[39m.\u001b[39mPOINTER(c_bst_ulong)()\n\u001b[1;32m   2162\u001b[0m dims \u001b[39m=\u001b[39m c_bst_ulong()\n\u001b[0;32m-> 2163\u001b[0m _check_call(\n\u001b[1;32m   2164\u001b[0m     _LIB\u001b[39m.\u001b[39;49mXGBoosterPredictFromDMatrix(\n\u001b[1;32m   2165\u001b[0m         \u001b[39mself\u001b[39;49m\u001b[39m.\u001b[39;49mhandle,\n\u001b[1;32m   2166\u001b[0m         data\u001b[39m.\u001b[39;49mhandle,\n\u001b[1;32m   2167\u001b[0m         from_pystr_to_cstr(json\u001b[39m.\u001b[39;49mdumps(args)),\n\u001b[1;32m   2168\u001b[0m         ctypes\u001b[39m.\u001b[39;49mbyref(shape),\n\u001b[1;32m   2169\u001b[0m         ctypes\u001b[39m.\u001b[39;49mbyref(dims),\n\u001b[1;32m   2170\u001b[0m         ctypes\u001b[39m.\u001b[39;49mbyref(preds)\n\u001b[1;32m   2171\u001b[0m     )\n\u001b[1;32m   2172\u001b[0m )\n\u001b[1;32m   2173\u001b[0m \u001b[39mreturn\u001b[39;00m _prediction_output(shape, dims, preds, \u001b[39mFalse\u001b[39;00m)\n",
      "File \u001b[0;32m/work/submit/mori25/anaconda3/envs/rhino/lib/python3.11/site-packages/xgboost/core.py:279\u001b[0m, in \u001b[0;36m_check_call\u001b[0;34m(ret)\u001b[0m\n\u001b[1;32m    268\u001b[0m \u001b[39m\u001b[39m\u001b[39m\"\"\"Check the return value of C API call\u001b[39;00m\n\u001b[1;32m    269\u001b[0m \n\u001b[1;32m    270\u001b[0m \u001b[39mThis function will raise exception when error occurs.\u001b[39;00m\n\u001b[0;32m   (...)\u001b[0m\n\u001b[1;32m    276\u001b[0m \u001b[39m    return value from API calls\u001b[39;00m\n\u001b[1;32m    277\u001b[0m \u001b[39m\"\"\"\u001b[39;00m\n\u001b[1;32m    278\u001b[0m \u001b[39mif\u001b[39;00m ret \u001b[39m!=\u001b[39m \u001b[39m0\u001b[39m:\n\u001b[0;32m--> 279\u001b[0m     \u001b[39mraise\u001b[39;00m XGBoostError(py_str(_LIB\u001b[39m.\u001b[39mXGBGetLastError()))\n",
      "\u001b[0;31mXGBoostError\u001b[0m: [18:56:16] /home/conda/feedstock_root/build_artifacts/xgboost-split_1691196879049/work/src/learner.cc:792: Check failed: mparam_.num_feature != 0 (0 vs. 0) : 0 feature is supplied.  Are you using raw Booster interface?\nStack trace:\n  [bt] (0) /work/submit/mori25/anaconda3/envs/rhino/lib/libxgboost.so(+0x20b7df) [0x7efc6d0597df]\n  [bt] (1) /work/submit/mori25/anaconda3/envs/rhino/lib/libxgboost.so(+0x3e04ee) [0x7efc6d22e4ee]\n  [bt] (2) /work/submit/mori25/anaconda3/envs/rhino/lib/libxgboost.so(+0x3e7453) [0x7efc6d235453]\n  [bt] (3) /work/submit/mori25/anaconda3/envs/rhino/lib/libxgboost.so(+0x3e0b1a) [0x7efc6d22eb1a]\n  [bt] (4) /work/submit/mori25/anaconda3/envs/rhino/lib/libxgboost.so(XGBoosterPredictFromDMatrix+0x2f9) [0x7efc6d079639]\n  [bt] (5) /work/submit/mori25/anaconda3/envs/rhino/lib/python3.11/lib-dynload/../../libffi.so.8(+0x6a4a) [0x7efd35906a4a]\n  [bt] (6) /work/submit/mori25/anaconda3/envs/rhino/lib/python3.11/lib-dynload/../../libffi.so.8(+0x5fea) [0x7efd35905fea]\n  [bt] (7) /work/submit/mori25/anaconda3/envs/rhino/lib/python3.11/lib-dynload/_ctypes.cpython-311-x86_64-linux-gnu.so(+0x12529) [0x7efd2e283529]\n  [bt] (8) /work/submit/mori25/anaconda3/envs/rhino/lib/python3.11/lib-dynload/_ctypes.cpython-311-x86_64-linux-gnu.so(+0x8862) [0x7efd2e279862]\n\n"
     ]
    }
   ],
   "source": [
    "Y_forest = Trainer(\"Y\", 'forest_standard')\n",
    "Y_forest.complete_load()\n",
    "Y_forest.plot_model()"
   ]
  },
  {
   "cell_type": "code",
   "execution_count": null,
   "metadata": {},
   "outputs": [],
   "source": [
    "Y_tree = Trainer(\"Y\", 'tree_standard')\n",
    "Y_tree.complete_load()\n",
    "Y_tree.plot_model()"
   ]
  },
  {
   "cell_type": "code",
   "execution_count": null,
   "metadata": {},
   "outputs": [],
   "source": [
    "plot_ROC(Y_tree.dtrain,Y_tree.dval,[Y_tree.bst,Y_forest.bst], [\"GB tree\", \"Boosted RF\"])"
   ]
  },
  {
   "cell_type": "markdown",
   "metadata": {},
   "source": [
    "Now look for optimal discriminators"
   ]
  },
  {
   "cell_type": "code",
   "execution_count": null,
   "metadata": {},
   "outputs": [],
   "source": [
    "predY = Y_tree.bst.predict(xgb.DMatrix(Y_tree.trainData_skinny))"
   ]
  },
  {
   "cell_type": "code",
   "execution_count": null,
   "metadata": {},
   "outputs": [],
   "source": [
    "#Study cuts on discriminators to optimize for Y\n",
    "\n",
    "id1Y=Y_tree.trainData[\"Muon_softMva1\"]\n",
    "id2Y=Y_tree.trainData[\"Muon_softMva2\"]\n",
    "sig_cut = Y_tree.trainData[\"Score\"]==1\n",
    "bkg_cut = Y_tree.trainData[\"Score\"]==0\n",
    "\n",
    "def efficiencyY(id_lim,dis_lim):\n",
    "    sig = (predY[sig_cut] > dis_lim) & (id1Y[sig_cut] > id_lim) & (id2Y[sig_cut] > id_lim)\n",
    "    s = np.sum(sig)\n",
    "    bkg = (predY[bkg_cut] > dis_lim) & (id1Y[bkg_cut] > id_lim) & (id2Y[bkg_cut] > id_lim)\n",
    "    b = np.sum(bkg)\n",
    "    return s/np.sqrt(b) if b!= 0 else 0\n"
   ]
  },
  {
   "cell_type": "code",
   "execution_count": null,
   "metadata": {},
   "outputs": [],
   "source": [
    "id_vals = np.linspace(0.2,0.5,50)\n",
    "vtx_vals= np.linspace(0.45,0.9,50)\n",
    "XY, YY = np.meshgrid(id_vals,vtx_vals)\n",
    "effY = np.vectorize(efficiencyY)(XY,YY)\n",
    "idxY = np.unravel_index(np.argmax(effY),effY.shape)\n",
    "print(\"Optimal discriminator cuts: \\n SoftMVA (Muon ID): \", XY[idxY], \"\\n BDT (Vertex quantities): \", YY[idxY])"
   ]
  },
  {
   "cell_type": "code",
   "execution_count": null,
   "metadata": {},
   "outputs": [],
   "source": [
    "plt.figure(figsize=(10, 9))\n",
    "pcm = plt.pcolormesh(XY, YY, effY, shading='auto', cmap='inferno')# norm=matplotlib.colors.LogNorm()\n",
    "colorbar = plt.colorbar(pcm, label='$s/\\sqrt{b}$')\n",
    "# colorbar_ticks = [1000,1300 , 2000]  # Define your desired tick positions\n",
    "# colorbar.set_ticks(colorbar_ticks)\n",
    "plt.xlabel('MuonID MVA cut')\n",
    "plt.ylabel('BDT cut')\n",
    "plt.title('Discriminator yield for Y peak')\n",
    "# plt.ylim(0.65,0.85)\n",
    "plt.show()"
   ]
  },
  {
   "cell_type": "code",
   "execution_count": null,
   "metadata": {},
   "outputs": [],
   "source": []
  }
 ],
 "metadata": {
  "kernelspec": {
   "display_name": "rhino",
   "language": "python",
   "name": "python3"
  },
  "language_info": {
   "codemirror_mode": {
    "name": "ipython",
    "version": 3
   },
   "file_extension": ".py",
   "mimetype": "text/x-python",
   "name": "python",
   "nbconvert_exporter": "python",
   "pygments_lexer": "ipython3",
   "version": "3.11.4"
  },
  "orig_nbformat": 4
 },
 "nbformat": 4,
 "nbformat_minor": 2
}
