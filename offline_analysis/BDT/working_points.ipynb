{
 "cells": [
  {
   "cell_type": "code",
   "execution_count": 1,
   "metadata": {},
   "outputs": [
    {
     "ename": "TypeError",
     "evalue": "expected str, bytes or os.PathLike object, not NoneType",
     "output_type": "error",
     "traceback": [
      "\u001b[0;31m---------------------------------------------------------------------------\u001b[0m",
      "\u001b[0;31mTypeError\u001b[0m                                 Traceback (most recent call last)",
      "Cell \u001b[0;32mIn[1], line 12\u001b[0m\n\u001b[1;32m      9\u001b[0m DPUSER\u001b[38;5;241m=\u001b[39m\u001b[38;5;124m\"\u001b[39m\u001b[38;5;124m/work/submit/mori25/Darkphotons_ludo/offline_analysis\u001b[39m\u001b[38;5;124m\"\u001b[39m\n\u001b[1;32m     10\u001b[0m DPUSERBASE\u001b[38;5;241m=\u001b[39m\u001b[38;5;124m\"\u001b[39m\u001b[38;5;124m/work/submit/mori25/Darkphotons_ludo/\u001b[39m\u001b[38;5;124m\"\u001b[39m\n\u001b[0;32m---> 12\u001b[0m \u001b[38;5;28;01mfrom\u001b[39;00m \u001b[38;5;21;01mtraining_offline\u001b[39;00m \u001b[38;5;28;01mimport\u001b[39;00m Trainer, plot_ROC,plot_ROC_train_test \n",
      "File \u001b[0;32m/work/submit/mori25/Darkphotons_ludo/offline_analysis/BDT/training_offline.py:37\u001b[0m\n\u001b[1;32m     34\u001b[0m     \u001b[38;5;28;01mexcept\u001b[39;00m \u001b[38;5;167;01mException\u001b[39;00m \u001b[38;5;28;01mas\u001b[39;00m e: \n\u001b[1;32m     35\u001b[0m         \u001b[38;5;28;01mraise\u001b[39;00m e\n\u001b[0;32m---> 37\u001b[0m config \u001b[38;5;241m=\u001b[39m \u001b[43mload_analysis_config\u001b[49m\u001b[43m(\u001b[49m\u001b[43m)\u001b[49m\n\u001b[1;32m     40\u001b[0m \u001b[38;5;28;01mclass\u001b[39;00m \u001b[38;5;21;01mTrainer\u001b[39;00m:\n\u001b[1;32m     42\u001b[0m     \u001b[38;5;28;01mdef\u001b[39;00m \u001b[38;5;21m__init__\u001b[39m(\u001b[38;5;28mself\u001b[39m, particle, modelname \u001b[38;5;241m=\u001b[39m \u001b[38;5;28;01mNone\u001b[39;00m) \u001b[38;5;241m-\u001b[39m\u001b[38;5;241m>\u001b[39m \u001b[38;5;28;01mNone\u001b[39;00m:\n",
      "File \u001b[0;32m/work/submit/mori25/Darkphotons_ludo/offline_analysis/BDT/training_offline.py:35\u001b[0m, in \u001b[0;36mload_analysis_config\u001b[0;34m()\u001b[0m\n\u001b[1;32m     32\u001b[0m     \u001b[38;5;28;01mreturn\u001b[39;00m config\n\u001b[1;32m     34\u001b[0m \u001b[38;5;28;01mexcept\u001b[39;00m \u001b[38;5;167;01mException\u001b[39;00m \u001b[38;5;28;01mas\u001b[39;00m e: \n\u001b[0;32m---> 35\u001b[0m     \u001b[38;5;28;01mraise\u001b[39;00m e\n",
      "File \u001b[0;32m/work/submit/mori25/Darkphotons_ludo/offline_analysis/BDT/training_offline.py:30\u001b[0m, in \u001b[0;36mload_analysis_config\u001b[0;34m()\u001b[0m\n\u001b[1;32m     28\u001b[0m \u001b[38;5;28;01mdef\u001b[39;00m \u001b[38;5;21mload_analysis_config\u001b[39m():\n\u001b[1;32m     29\u001b[0m     \u001b[38;5;28;01mtry\u001b[39;00m:\n\u001b[0;32m---> 30\u001b[0m         \u001b[38;5;28;01mwith\u001b[39;00m \u001b[38;5;28mopen\u001b[39m(\u001b[43mos\u001b[49m\u001b[38;5;241;43m.\u001b[39;49m\u001b[43mpath\u001b[49m\u001b[38;5;241;43m.\u001b[39;49m\u001b[43mjoin\u001b[49m\u001b[43m(\u001b[49m\u001b[43mDP_USER\u001b[49m\u001b[43m,\u001b[49m\u001b[38;5;124;43m\"\u001b[39;49m\u001b[38;5;124;43mconfig/analysis_config.yml\u001b[39;49m\u001b[38;5;124;43m\"\u001b[39;49m\u001b[43m)\u001b[49m, \u001b[38;5;124m\"\u001b[39m\u001b[38;5;124mr\u001b[39m\u001b[38;5;124m\"\u001b[39m) \u001b[38;5;28;01mas\u001b[39;00m f:\n\u001b[1;32m     31\u001b[0m             config \u001b[38;5;241m=\u001b[39m yaml\u001b[38;5;241m.\u001b[39mload(f, Loader\u001b[38;5;241m=\u001b[39myaml\u001b[38;5;241m.\u001b[39mFullLoader)\n\u001b[1;32m     32\u001b[0m         \u001b[38;5;28;01mreturn\u001b[39;00m config\n",
      "File \u001b[0;32m<frozen posixpath>:76\u001b[0m, in \u001b[0;36mjoin\u001b[0;34m(a, *p)\u001b[0m\n",
      "\u001b[0;31mTypeError\u001b[0m: expected str, bytes or os.PathLike object, not NoneType"
     ]
    }
   ],
   "source": [
    "import numpy as np\n",
    "import xgboost as xgb\n",
    "import mplhep as hep\n",
    "import matplotlib.pyplot as plt\n",
    "import os\n",
    "from numba_stats import expon # crystalball,crystalball_ex, norm, expon, voigt, truncexpon\n",
    "\n",
    "HOMEUSER=\"/home/submit/mori25/\"\n",
    "DPUSER=\"/work/submit/mori25/Darkphotons_ludo/offline_analysis\"\n",
    "DPUSERBASE=\"/work/submit/mori25/Darkphotons_ludo/\"\n",
    "\n",
    "from training_offline import Trainer, plot_ROC,plot_ROC_train_test "
   ]
  },
  {
   "cell_type": "code",
   "execution_count": null,
   "metadata": {},
   "outputs": [],
   "source": [
    "modelname = \"forest_prompt\"\n",
    "Jpsi_fp = Trainer(\"Jpsi\", modelname)\n",
    "Jpsi_fp.load_data(include_MC=True)\n",
    "Jpsi_fp.prepare_training_set(prompt_reweight=True)\n",
    "Jpsi_fp.load_model()"
   ]
  },
  {
   "cell_type": "markdown",
   "metadata": {},
   "source": [
    "Now look for optimal discriminators"
   ]
  },
  {
   "cell_type": "code",
   "execution_count": null,
   "metadata": {},
   "outputs": [],
   "source": [
    "Jpsi_fp.val_bkg=Jpsi_fp.bst.predict(xgb.DMatrix(Jpsi_fp.X_val[Jpsi_fp.y_val==0]))\n",
    "Jpsi_fp.val_sig=Jpsi_fp.bst.predict(xgb.DMatrix(Jpsi_fp.X_val[Jpsi_fp.y_val==1]))"
   ]
  },
  {
   "cell_type": "markdown",
   "metadata": {},
   "source": [
    "Start by optimizing only the BDT cut. Assume reweighing "
   ]
  },
  {
   "cell_type": "code",
   "execution_count": null,
   "metadata": {},
   "outputs": [],
   "source": [
    "def significance(dis_lim):\n",
    "    sig = Jpsi_fp.weights[Jpsi_fp.X_val.index[Jpsi_fp.y_val==1]][Jpsi_fp.val_sig > dis_lim]\n",
    "    s = np.sum(sig)\n",
    "    bkg = Jpsi_fp.weights[Jpsi_fp.X_val.index[Jpsi_fp.y_val==0]][Jpsi_fp.val_bkg > dis_lim]\n",
    "    b = np.sum(bkg)\n",
    "    r = s/np.sqrt(b) if b!= 0 else 0\n",
    "    return r,s,b\n",
    "\n",
    "stot = np.sum(Jpsi_fp.weights[Jpsi_fp.X_val.index[Jpsi_fp.y_val==1]])\n",
    "btot = np.sum(Jpsi_fp.weights[Jpsi_fp.X_val.index[Jpsi_fp.y_val==0]])\n",
    "\n",
    "xlims = 0.8,0.98\n",
    "BDT_vals= np.linspace(*xlims,1000)\n",
    "significance_vals = np.vectorize(significance)(BDT_vals)\n",
    "max_idx = np.argmax(significance_vals[0])\n",
    "max_cut = BDT_vals[max_idx]\n",
    "max_significance = significance_vals[0][max_idx]\n",
    "sig_eff = significance_vals[1][max_idx]/stot\n",
    "bkg_rej = 1 - significance_vals[2][max_idx]/btot\n",
    "text = f\"max cut={round(max_cut,3)}\\nsig. eff.={round(sig_eff,3)}\\nbkg. rej.={round(bkg_rej,3)}\"\n",
    "\n",
    "\n",
    "hep.style.use(\"CMS\")\n",
    "plt.figure(figsize=(10, 8))\n",
    "plt.plot(BDT_vals, significance_vals[0],label=\"Significance\")\n",
    "plt.scatter([max_cut],[max_significance],label=\"Optimal point\",c='red')\n",
    "plt.xlabel('Prompt Jpsi BDT cut')\n",
    "plt.ylabel('Significance $s/\\sqrt{b}$')\n",
    "plt.legend()\n",
    "plt.text(xlims[0]*1.01,1000,text, fontsize=11, bbox=dict(facecolor='white', edgecolor='black')) \n",
    "plt.show()"
   ]
  },
  {
   "cell_type": "markdown",
   "metadata": {},
   "source": [
    "Now same for MuonID"
   ]
  },
  {
   "cell_type": "code",
   "execution_count": null,
   "metadata": {},
   "outputs": [],
   "source": [
    "id1=Jpsi_fp.trainData[\"Muon_softMva1\"][Jpsi_fp.X_val.index]\n",
    "id2=Jpsi_fp.trainData[\"Muon_softMva2\"][Jpsi_fp.X_val.index]\n",
    "sig_cut = Jpsi_fp.trainData[\"Score\"][Jpsi_fp.X_val.index]==1\n",
    "bkg_cut = Jpsi_fp.trainData[\"Score\"][Jpsi_fp.X_val.index]==0\n",
    "\n",
    "print(sum(sig_cut))"
   ]
  },
  {
   "cell_type": "code",
   "execution_count": null,
   "metadata": {},
   "outputs": [],
   "source": [
    "Jpsi_fp.plot_hist([id2[sig_cut],id2[bkg_cut],id2[sig_cut],id2[bkg_cut]][:2],[\"Signal ($J/\\psi$)\",\"Background (sidebands)\",\"Signal rew.\",\"Background rew.\"],  weights=[None,None,Jpsi_fp.weights[Jpsi_fp.X_val.index][Jpsi_fp.y_val==1],Jpsi_fp.weights[Jpsi_fp.X_val.index][Jpsi_fp.y_val==0]],\n",
    "                  xlim=None, xlabel = \"Muon Soft MVA 1\",nbins=229,density=True)"
   ]
  },
  {
   "cell_type": "code",
   "execution_count": null,
   "metadata": {},
   "outputs": [],
   "source": [
    "def IDsignificance(dis_lim):\n",
    "    sig = (id1[sig_cut] > dis_lim) & (id2[sig_cut] > dis_lim)\n",
    "    s = np.sum(sig)\n",
    "    bkg = (id1[bkg_cut] > dis_lim) & (id2[bkg_cut] > dis_lim)\n",
    "    b = np.sum(bkg)\n",
    "    r = s/np.sqrt(b) if b!= 0 else 0\n",
    "    return r,s,b\n",
    "\n",
    "stot = np.sum(Jpsi_fp.y_val==1)\n",
    "btot = np.sum(Jpsi_fp.y_val==0)\n",
    "\n",
    "xlims = 0.1,0.8\n",
    "MuonID_vals= np.linspace(*xlims,1000)\n",
    "significance_vals = np.vectorize(IDsignificance)(MuonID_vals)\n",
    "\n",
    "max_idx = np.argmax(significance_vals[0])\n",
    "max_cut = MuonID_vals[max_idx]\n",
    "max_significance = significance_vals[0][max_idx]\n",
    "sig_eff = significance_vals[1][max_idx]/stot\n",
    "bkg_rej = 1 - significance_vals[2][max_idx]/btot\n",
    "text = f\"Max. cut={round(max_cut,3)}\\nSig. eff.={round(sig_eff,3)}\\nBkg. rej.={round(bkg_rej,3)}\"\n",
    "\n",
    "alt_cut = 0.4\n",
    "alt_significance = significance_vals[0][np.argmin(np.abs(MuonID_vals-alt_cut))]\n",
    "sig_eff_alt = significance_vals[1][np.argmin(np.abs(MuonID_vals-alt_cut))]/stot\n",
    "bkg_eff_alt = 1 - significance_vals[2][np.argmin(np.abs(MuonID_vals-alt_cut))]/btot\n",
    "text_alt = f\"Alt. cut={round(alt_cut,3)}\\nsig. eff.={round(sig_eff_alt,3)}\\nbkg. eff.={round(bkg_eff_alt,3)}\"\n",
    "\n",
    "hep.style.use(\"CMS\")\n",
    "plt.figure(figsize=(10, 8))\n",
    "plt.plot(MuonID_vals, significance_vals[0],label=\"Significance\")\n",
    "plt.scatter([max_cut],[max_significance],label=\"Arithmetic optimum\",c='red')\n",
    "plt.scatter([alt_cut],[alt_significance],label=\"Tuned optimum\",c='green')\n",
    "plt.xlabel('Muon Soft MVA cut')\n",
    "plt.ylabel('Significance $s/\\sqrt{b}$')\n",
    "plt.legend()\n",
    "plt.text(xlims[0]*1.01,200,text, fontsize=11, bbox=dict(facecolor='white', edgecolor='black')) \n",
    "plt.text(xlims[0]*1.01,150,text_alt, fontsize=11, bbox=dict(facecolor='white', edgecolor='black')) \n",
    "plt.show()"
   ]
  },
  {
   "cell_type": "code",
   "execution_count": null,
   "metadata": {},
   "outputs": [],
   "source": []
  }
 ],
 "metadata": {
  "kernelspec": {
   "display_name": "rhino",
   "language": "python",
   "name": "python3"
  },
  "language_info": {
   "codemirror_mode": {
    "name": "ipython",
    "version": 3
   },
   "file_extension": ".py",
   "mimetype": "text/x-python",
   "name": "python",
   "nbconvert_exporter": "python",
   "pygments_lexer": "ipython3",
   "version": "3.11.4"
  },
  "orig_nbformat": 4
 },
 "nbformat": 4,
 "nbformat_minor": 2
}
